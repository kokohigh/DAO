{
  "nbformat": 4,
  "nbformat_minor": 0,
  "metadata": {
    "colab": {
      "name": "Untitled2.ipynb",
      "provenance": [],
      "collapsed_sections": [],
      "authorship_tag": "ABX9TyPwLabxqKQcxp9VKfR3VCqz",
      "include_colab_link": true
    },
    "kernelspec": {
      "name": "python3",
      "display_name": "Python 3"
    },
    "language_info": {
      "name": "python"
    }
  },
  "cells": [
    {
      "cell_type": "markdown",
      "metadata": {
        "id": "view-in-github",
        "colab_type": "text"
      },
      "source": [
        "<a href=\"https://colab.research.google.com/github/kokohigh/DAO/blob/master/homework.ipynb\" target=\"_parent\"><img src=\"https://colab.research.google.com/assets/colab-badge.svg\" alt=\"Open In Colab\"/></a>"
      ]
    },
    {
      "cell_type": "code",
      "execution_count": 37,
      "metadata": {
        "id": "sK3cFBA7-9xw"
      },
      "outputs": [],
      "source": [
        "import numpy as np"
      ]
    },
    {
      "cell_type": "code",
      "source": [
        "# Ko Kohei\n",
        "# 21D50499"
      ],
      "metadata": {
        "id": "F-5JKGWOcIcP"
      },
      "execution_count": 38,
      "outputs": []
    },
    {
      "cell_type": "code",
      "source": [
        "# FOR 1-NN\n",
        "W1 = np.array([[0,0,1,0,0],\n",
        "               [0,0,0,0,1],\n",
        "               [1,0,0,1,0],\n",
        "               [0,0,1,0,0],\n",
        "               [0,1,0,0,0],])\n",
        "\n",
        "D1 =np.array([[1,0,0,0,0],\n",
        "               [0,1,0,0,0],\n",
        "               [0,0,2,0,0],\n",
        "               [0,0,0,1,0],\n",
        "               [0,0,0,0,1],])\n",
        "D_minus = np.array([[1**(-1/2),0,0,0,0],\n",
        "               [0,1**(-1/2),0,0,0],\n",
        "               [0,0,2**(-1/2),0,0],\n",
        "               [0,0,0,1**(-1/2),0],\n",
        "               [0,0,0,0,1**(-1/2)],])\n",
        "\n",
        "Dstar = D_minus.dot(W1)\n",
        "Df = Dstar.dot(D_minus)\n",
        "\n",
        "result = np.linalg.eig(Df)\n",
        "print(np.around(result[0], decimals=4))\n",
        "print(np.around(result[1].T, decimals=4))"
      ],
      "metadata": {
        "colab": {
          "base_uri": "https://localhost:8080/",
          "height": 0
        },
        "id": "Crm2E206_FJF",
        "outputId": "66c01ae8-bbb9-4094-a6d6-ae4c5d8aca13"
      },
      "execution_count": 39,
      "outputs": [
        {
          "output_type": "stream",
          "name": "stdout",
          "text": [
            "[-1.  0.  1.  1. -1.]\n",
            "[[ 0.5     0.     -0.7071  0.5     0.    ]\n",
            " [-0.7071  0.     -0.      0.7071  0.    ]\n",
            " [ 0.5     0.      0.7071  0.5     0.    ]\n",
            " [ 0.     -0.7071  0.      0.     -0.7071]\n",
            " [ 0.     -0.7071  0.      0.      0.7071]]\n"
          ]
        }
      ]
    },
    {
      "cell_type": "code",
      "source": [
        "u2 = np.array([0.5 ,    0.,      0.7071,  0.5,     0.],) # Which is the second eigenvector?\n",
        "u1 = np.array([ 0. ,    -0.7071,  0. ,     0. ,    -0.7071],)\n",
        "#u3 = np.array([-0.7071,  0.,     -0. ,     0.7071,  0.],)\n",
        "#u1u2 = np.array([[0.5 ,    0.,      0.7071,  0.5,     0.],\n",
        "                 #[ 0. ,    -0.7071,  0. ,     0. ,    -0.7071],])\n",
        "print(np.around(D_minus.dot(u2),decimals=4))\n",
        "print(np.around(D_minus.dot(u1),decimals=4))\n",
        "#print(np.around(D_minus.dot(u3),decimals=4))\n",
        "#print(np.around(D_minus.dot(u1u2.T).T,decimals=4))"
      ],
      "metadata": {
        "colab": {
          "base_uri": "https://localhost:8080/",
          "height": 0
        },
        "id": "7bACaPdTXk0R",
        "outputId": "1c93d782-191f-425d-e135-1489560322ba"
      },
      "execution_count": 40,
      "outputs": [
        {
          "output_type": "stream",
          "name": "stdout",
          "text": [
            "[0.5 0.  0.5 0.5 0. ]\n",
            "[ 0.     -0.7071  0.      0.     -0.7071]\n"
          ]
        }
      ]
    },
    {
      "cell_type": "code",
      "source": [
        "# One of the above results should be the same constant, but I didn't get that. \n",
        "#So I don't know which result should be abandoned."
      ],
      "metadata": {
        "id": "JWYSwDDXcbvd"
      },
      "execution_count": 41,
      "outputs": []
    },
    {
      "cell_type": "code",
      "source": [
        "# FOR 2-NN\n",
        "W1 = np.array([[0,1,1,1,0],\n",
        "               [1,0,0,0,1],\n",
        "               [1,0,0,1,0],\n",
        "               [1,0,1,0,0],\n",
        "               [0,1,0,0,0],])\n",
        "\n",
        "D1 =np.array([[3,0,0,0,0],\n",
        "               [0,2,0,0,0],\n",
        "               [0,0,2,0,0],\n",
        "               [0,0,0,2,0],\n",
        "               [0,0,0,0,1],])\n",
        "D_minus = np.array([[3**(-1/2),0,0,0,0],\n",
        "               [0,2**(-1/2),0,0,0],\n",
        "               [0,0,2**(-1/2),0,0],\n",
        "               [0,0,0,2**(-1/2),0],\n",
        "               [0,0,0,0,1**(-1/2)],])\n",
        "\n",
        "Dstar = D_minus.dot(W1)\n",
        "Df = Dstar.dot(D_minus)\n",
        "\n",
        "result = np.linalg.eig(Df)\n",
        "print(np.around(result[0], decimals=4, out=None))\n",
        "print(np.around(result[1].T, decimals=4, out=None))"
      ],
      "metadata": {
        "colab": {
          "base_uri": "https://localhost:8080/",
          "height": 0
        },
        "id": "3ukjR2SeY4Bo",
        "outputId": "b7fd17cb-198d-4afe-882f-c14142ebcc37"
      },
      "execution_count": 42,
      "outputs": [
        {
          "output_type": "stream",
          "name": "stdout",
          "text": [
            "[ 1.      0.6541 -0.8566 -0.2975 -0.5   ]\n",
            "[[-0.5477 -0.4472 -0.4472 -0.4472 -0.3162]\n",
            " [-0.1496  0.5531 -0.3964 -0.3964  0.5979]\n",
            " [-0.4497  0.6728  0.1353  0.1353 -0.5554]\n",
            " [-0.6895 -0.2035  0.353   0.353   0.4837]\n",
            " [-0.     -0.     -0.7071  0.7071  0.    ]]\n"
          ]
        }
      ]
    },
    {
      "cell_type": "code",
      "source": [
        "u2 = np.array([-0.1496,  0.5531, -0.3964, -0.3964,  0.5979,],) #This is the second eigenvector\n",
        "u1 = np.array([-0.5477, -0.4472, -0.4472, -0.4472, -0.3162,],)\n",
        "print(np.around(D_minus.dot(u2),decimals = 4))\n",
        "print(np.around(D_minus.dot(u1),decimals = 4)) "
      ],
      "metadata": {
        "colab": {
          "base_uri": "https://localhost:8080/",
          "height": 0
        },
        "id": "aMOu1O2XZmV3",
        "outputId": "a1e2a3a8-e542-482d-b64c-85f805c7fe7c"
      },
      "execution_count": 43,
      "outputs": [
        {
          "output_type": "stream",
          "name": "stdout",
          "text": [
            "[-0.0864  0.3911 -0.2803 -0.2803  0.5979]\n",
            "[-0.3162 -0.3162 -0.3162 -0.3162 -0.3162]\n"
          ]
        }
      ]
    }
  ]
}